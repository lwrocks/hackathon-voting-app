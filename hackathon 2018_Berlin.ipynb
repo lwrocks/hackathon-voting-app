{
 "cells": [
  {
   "cell_type": "code",
   "execution_count": 5,
   "metadata": {
    "collapsed": false
   },
   "outputs": [
    {
     "data": {
      "image/png": "[encoded data removed]",
      "text/plain": [
       "<matplotlib.figure.Figure at 0x10d9f8f50>"
      ]
     },
     "metadata": {},
     "output_type": "display_data"
    }
   ],
   "source": [
    "import matplotlib.pyplot as plt\n",
    "import numpy as np\n",
    "%matplotlib inline\n",
    "fig, ax = plt.subplots()\n",
    "\n",
    "# Example data\n",
    "people = ('Your vote', 'Other people')\n",
    "\n",
    "performance = [1.,0.8]   #if you vote yes put [1,something] --> green == yes\n",
    "perfor2 = [0.,0.2] #if you vote no put [0, something] --> red == no \n",
    "\n",
    "y_pos = [0,1] \n",
    "\n",
    "ax.barh(y_pos ,performance, align='center', color='green', alpha = 0.5 )\n",
    "ax.barh(y_pos,perfor2, align='center', color='red', alpha = 0.5, left=performance)\n",
    "\n",
    "ax.set_yticks(y_pos)\n",
    "ax.set_yticklabels(people)\n",
    "ax.invert_yaxis()  # labels read top-to-bottom\n",
    "#ax.set_xlabel('')\n",
    "ax.set_title('Support for Patients and Communities Act')\n",
    "\n",
    "\n",
    "#fig.savefig('tot.png')   # save the figure to file\n",
    "\n",
    "#ax.plot([],'r', label='{}%'.format(perfor2[1]*100))\n",
    "#ax.plot([],'g', label='{}%'.format(performance[1]*100))\n",
    "#ax.legend(bbox_to_anchor=(1.091, 0.3), loc=2, borderaxespad=0.)\n",
    "ax.axes.get_xaxis().set_visible(False)\n",
    "\n",
    "plt.show()\n",
    "fig.savefig('tot.png')"
   ]
  }
 ],
 "metadata": {
  "anaconda-cloud": {},
  "kernelspec": {
   "display_name": "Python [Root]",
   "language": "python",
   "name": "Python [Root]"
  },
  "language_info": {
   "codemirror_mode": {
    "name": "ipython",
    "version": 2
   },
   "file_extension": ".py",
   "mimetype": "text/x-python",
   "name": "python",
   "nbconvert_exporter": "python",
   "pygments_lexer": "ipython2",
   "version": "2.7.12"
  }
 },
 "nbformat": 4,
 "nbformat_minor": 0
}
